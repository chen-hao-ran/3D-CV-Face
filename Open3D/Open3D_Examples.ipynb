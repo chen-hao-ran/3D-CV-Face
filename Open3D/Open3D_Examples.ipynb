{
 "cells": [
  {
   "cell_type": "code",
   "id": "initial_id",
   "metadata": {
    "collapsed": true,
    "ExecuteTime": {
     "end_time": "2024-04-26T06:10:10.883616Z",
     "start_time": "2024-04-26T06:10:08.942524Z"
    }
   },
   "source": "!pip install numpy",
   "outputs": [
    {
     "name": "stdout",
     "output_type": "stream",
     "text": [
      "Requirement already satisfied: numpy in d:\\anaconda\\anaconda3\\envs\\3dcv_common\\lib\\site-packages (1.26.4)\n"
     ]
    }
   ],
   "execution_count": 4
  },
  {
   "metadata": {},
   "cell_type": "markdown",
   "source": "## 点云可视化",
   "id": "ee7be4c796fd55ef"
  },
  {
   "metadata": {
    "ExecuteTime": {
     "end_time": "2024-04-26T08:36:43.965135Z",
     "start_time": "2024-04-26T08:36:40.670758Z"
    }
   },
   "cell_type": "code",
   "source": [
    "# pointcloud_visualize 1 pcd\n",
    "\n",
    "import open3d as o3d\n",
    "import numpy as np\n",
    "\n",
    "pcd = o3d.io.read_point_cloud(\"./res/data/fragment.pcd\")\n",
    "print(pcd)\n",
    "print(np.asarray(pcd.points))\n",
    "#显示点云数据\n",
    "o3d.visualization.draw_geometries([pcd],\n",
    "                               zoom=0.3412,\n",
    "                               front=[0.4257, -0.2125, -0.8795],\n",
    "                               lookat=[2.6172, 2.0475, 1.532],\n",
    "                               up=[-0.0694, -0.9768, 0.2024])"
   ],
   "id": "2ef1e3c5eff0c8e8",
   "outputs": [
    {
     "name": "stdout",
     "output_type": "stream",
     "text": [
      "PointCloud with 113662 points.\n",
      "[[1.16796875 1.01803279 0.96484375]\n",
      " [1.16845131 1.01953125 0.96484375]\n",
      " [1.16796875 1.02158833 0.96484375]\n",
      " ...\n",
      " [2.19495988 2.62890625 1.45703125]\n",
      " [2.19140625 2.63435388 1.45703125]\n",
      " [2.19140625 2.62890625 1.45781052]]\n"
     ]
    }
   ],
   "execution_count": 42
  },
  {
   "metadata": {
    "ExecuteTime": {
     "end_time": "2024-04-26T08:22:18.690031Z",
     "start_time": "2024-04-26T08:22:06.292297Z"
    }
   },
   "cell_type": "code",
   "source": [
    "#pointcloud_visualize 2 pcd\n",
    "\n",
    "import open3d as o3d\n",
    "import numpy as np\n",
    "\n",
    "pcd = o3d.io.read_point_cloud(\"./res/data/fragment.pcd\", format='auto', remove_nan_points=True, remove_infinite_points=True, print_progress=True)\n",
    "print(pcd) # 输出点云点的个数\n",
    "print(np.asarray(pcd.points)) # 输出点的三维坐标\n",
    "# pcd.paint_uniform_color([1, 0, 0])\n",
    "# pcd.colors = o3d.utility.Vector3dVector(np.random.uniform(0, 1, (1, 3)))\n",
    "o3d.io.write_point_cloud(\"./res/data/copy_of_fragment.pcd\", pcd)\n",
    "o3d.visualization.draw_geometries([pcd], window_name='Open3D', width=1920, height=1080, left=50, top=50, point_show_normal=False, mesh_show_wireframe=False, mesh_show_back_face=False)"
   ],
   "id": "b881a78935906269",
   "outputs": [
    {
     "name": "stdout",
     "output_type": "stream",
     "text": [
      "PointCloud with 113662 points.\n",
      "[[1.16796875 1.01803279 0.96484375]\n",
      " [1.16845131 1.01953125 0.96484375]\n",
      " [1.16796875 1.02158833 0.96484375]\n",
      " ...\n",
      " [2.19495988 2.62890625 1.45703125]\n",
      " [2.19140625 2.63435388 1.45703125]\n",
      " [2.19140625 2.62890625 1.45781052]]\n"
     ]
    }
   ],
   "execution_count": 26
  },
  {
   "metadata": {},
   "cell_type": "markdown",
   "source": "## Color",
   "id": "d5c205554cf5eba3"
  },
  {
   "metadata": {
    "ExecuteTime": {
     "end_time": "2024-04-26T08:23:21.740891Z",
     "start_time": "2024-04-26T08:23:21.732909Z"
    }
   },
   "cell_type": "code",
   "source": [
    "# 随机上色\n",
    "# pcd.colors = o3d.utility.Vector3dVector(np.random.uniform(0, 1, (1, 3)))\n",
    "\n",
    "# 指定颜色\n",
    "# pcd.paint_uniform_color([1, 0, 0])"
   ],
   "id": "899db289fd4994d9",
   "outputs": [],
   "execution_count": 27
  },
  {
   "metadata": {},
   "cell_type": "markdown",
   "source": "## 读取三维模型并转换成点云(stl/ply/obj/off/gltf/glb)",
   "id": "e2978ad8541fa72a"
  },
  {
   "metadata": {
    "ExecuteTime": {
     "end_time": "2024-04-26T08:33:53.093301Z",
     "start_time": "2024-04-26T08:33:51.053747Z"
    }
   },
   "cell_type": "code",
   "source": [
    "# model visualize\n",
    "path_obj = './res/data/chair_0001.off'\n",
    "\n",
    "mesh = o3d.io.read_triangle_mesh(path_obj)\n",
    "\n",
    "mesh.compute_vertex_normals()\n",
    "\n",
    "o3d.visualization.draw_geometries([mesh])"
   ],
   "id": "36744f32980f389b",
   "outputs": [],
   "execution_count": 41
  },
  {
   "metadata": {
    "ExecuteTime": {
     "end_time": "2024-04-26T08:32:32.987102Z",
     "start_time": "2024-04-26T08:32:31.416554Z"
    }
   },
   "cell_type": "code",
   "source": [
    "# model -> pointcloud\n",
    "\n",
    "# 均匀采样5000个点\n",
    "pcd = mesh.sample_points_uniformly(number_of_points=5000)\n",
    "\n",
    "o3d.visualization.draw_geometries([pcd])"
   ],
   "id": "9305ad3dadeb2aab",
   "outputs": [],
   "execution_count": 39
  },
  {
   "metadata": {
    "ExecuteTime": {
     "end_time": "2024-04-26T08:32:37.617062Z",
     "start_time": "2024-04-26T08:32:35.022025Z"
    }
   },
   "cell_type": "code",
   "source": [
    "# poisson_disk 5000 points\n",
    "\n",
    "pcd = mesh.sample_points_uniformly(number_of_points=5000)\n",
    "\n",
    "o3d.visualization.draw_geometries([pcd])"
   ],
   "id": "b5afcaecf330b48f",
   "outputs": [],
   "execution_count": 40
  },
  {
   "metadata": {},
   "cell_type": "markdown",
   "source": "poisson相比于均匀, 边缘点分布更加均匀",
   "id": "841aa174c08019ea"
  },
  {
   "metadata": {},
   "cell_type": "code",
   "outputs": [],
   "execution_count": null,
   "source": "",
   "id": "9ca1c3a50b3736b4"
  }
 ],
 "metadata": {
  "kernelspec": {
   "display_name": "Python 3",
   "language": "python",
   "name": "python3"
  },
  "language_info": {
   "codemirror_mode": {
    "name": "ipython",
    "version": 2
   },
   "file_extension": ".py",
   "mimetype": "text/x-python",
   "name": "python",
   "nbconvert_exporter": "python",
   "pygments_lexer": "ipython2",
   "version": "2.7.6"
  }
 },
 "nbformat": 4,
 "nbformat_minor": 5
}
